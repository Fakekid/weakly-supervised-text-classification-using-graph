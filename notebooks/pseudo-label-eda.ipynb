{
 "cells": [
  {
   "cell_type": "code",
   "execution_count": 2,
   "id": "95f420ca-d80d-4bb8-923a-a1e1572e26f5",
   "metadata": {},
   "outputs": [
    {
     "name": "stderr",
     "output_type": "stream",
     "text": [
      "/usr/local/lib/python3.8/dist-packages/tqdm/auto.py:22: TqdmWarning: IProgress not found. Please update jupyter and ipywidgets. See https://ipywidgets.readthedocs.io/en/stable/user_install.html\n",
      "  from .autonotebook import tqdm as notebook_tqdm\n"
     ]
    }
   ],
   "source": [
    "import numpy as np\n",
    "import pandas as pd\n",
    "import pickle as pkl\n",
    "import torch\n",
    "from tqdm import tqdm\n",
    "from transformers import BertTokenizer\n",
    "from parallel_processor import process_data"
   ]
  },
  {
   "cell_type": "code",
   "execution_count": 3,
   "id": "867eaba5-a3a9-4169-8b3f-b0b02be5a05d",
   "metadata": {},
   "outputs": [],
   "source": [
    "with open('datasets/dbpedia/train.txt', 'r') as fin:\n",
    "    data = [item.replace('\\n', '') for item in fin.readlines()]"
   ]
  },
  {
   "cell_type": "code",
   "execution_count": 4,
   "id": "5dc88c6f-6e58-4caa-8a6f-b81e12a2fe71",
   "metadata": {},
   "outputs": [],
   "source": [
    "with open('datasets/dbpedia/train_labels.txt', 'r') as fin:\n",
    "    label = [int(item.replace('\\n', '')) for item in fin.readlines()]"
   ]
  },
  {
   "cell_type": "code",
   "execution_count": 5,
   "id": "6a999f9b-6b9a-4aab-9462-bc7aca8da075",
   "metadata": {},
   "outputs": [],
   "source": [
    "dic = torch.load('datasets/dbpedia/category_vocab.pt', 'rb')"
   ]
  },
  {
   "cell_type": "code",
   "execution_count": 6,
   "id": "063403a4-83b9-4c22-95f0-4206d3fbb7bc",
   "metadata": {},
   "outputs": [],
   "source": [
    "tker = BertTokenizer.from_pretrained('bert-base-uncased')"
   ]
  },
  {
   "cell_type": "code",
   "execution_count": 7,
   "id": "58992001-6c72-4d00-b875-383fd6e40e62",
   "metadata": {},
   "outputs": [],
   "source": [
    "with open('/hy-tmp/weakly-text-classification/datasets/dbpedia/cate_vocab_with_weight.pkl', 'rb') as fin:\n",
    "    dic = pkl.load(fin)"
   ]
  },
  {
   "cell_type": "code",
   "execution_count": 58,
   "id": "b24d38e6-36bc-4a31-bb66-ed69ece3e02e",
   "metadata": {},
   "outputs": [],
   "source": [
    "with open('dbpedia_lotclass_dic.pkl', 'rb') as fin:\n",
    "    dic = pkl.load(fin)"
   ]
  },
  {
   "cell_type": "code",
   "execution_count": 52,
   "id": "03b4306c-f05d-437a-b12f-8d93dda92def",
   "metadata": {},
   "outputs": [],
   "source": [
    "def pseudo_label(x, vocab):\n",
    "    score = {k: 0 for k in vocab}\n",
    "    for k, v in vocab.items():\n",
    "        cnt = 0\n",
    "        for w in v:\n",
    "            if w[0] in x:\n",
    "                score[k] += w[1] ** 2\n",
    "                cnt += 1\n",
    "        if cnt == 0:\n",
    "            score[k] = 0\n",
    "        else:\n",
    "            score[k] /= (cnt ** 0.5)\n",
    "    return list(score.values())"
   ]
  },
  {
   "cell_type": "code",
   "execution_count": 46,
   "id": "236f4bc7-083a-4e1f-bbd5-757753218530",
   "metadata": {},
   "outputs": [
    {
     "data": {
      "text/plain": [
       "11"
      ]
     },
     "execution_count": 46,
     "metadata": {},
     "output_type": "execute_result"
    }
   ],
   "source": [
    "np.argmax(list(pseudo_label(data[-100000], dic)))"
   ]
  },
  {
   "cell_type": "code",
   "execution_count": 38,
   "id": "b3817072-692e-4506-a258-f56587eba9ab",
   "metadata": {},
   "outputs": [
    {
     "data": {
      "text/plain": [
       "\"The Blithedale Romance. The Blithedale Romance ( 1852 ) is Nathaniel Hawthorne's third major romance. In Hawthorne ( 1879 ) Henry James called it the lightest the brightest the liveliest of Hawthorne's unhumorous fictions.\""
      ]
     },
     "execution_count": 38,
     "metadata": {},
     "output_type": "execute_result"
    }
   ],
   "source": [
    "data[-3]"
   ]
  },
  {
   "cell_type": "code",
   "execution_count": 59,
   "id": "0a738eb8-1b3f-457a-ba18-1333fa7e4e4b",
   "metadata": {
    "scrolled": true,
    "tags": []
   },
   "outputs": [
    {
     "name": "stderr",
     "output_type": "stream",
     "text": [
      "100%|██████████| 9334/9334 [00:06<00:00, 1347.85it/s]\n",
      "100%|██████████| 9334/9334 [00:08<00:00, 1145.80it/s]\n",
      "100%|██████████| 9334/9334 [00:08<00:00, 1163.35it/s]\n",
      "100%|██████████| 9334/9334 [00:08<00:00, 1117.91it/s]\n",
      "100%|██████████| 9334/9334 [00:07<00:00, 1246.50it/s]\n",
      "100%|██████████| 9334/9334 [00:07<00:00, 1262.28it/s]\n",
      "100%|██████████| 9334/9334 [00:07<00:00, 1224.15it/s]\n",
      "100%|██████████| 9334/9334 [00:07<00:00, 1219.11it/s]\n",
      "100%|██████████| 9334/9334 [00:08<00:00, 1163.55it/s]\n",
      "100%|██████████| 9334/9334 [00:08<00:00, 1119.32it/s]\n",
      "100%|██████████| 9334/9334 [00:08<00:00, 1147.79it/s]\n",
      "100%|██████████| 9334/9334 [00:08<00:00, 1112.20it/s]\n",
      "100%|██████████| 9334/9334 [00:08<00:00, 1077.12it/s]\n",
      "100%|██████████| 9334/9334 [00:09<00:00, 1034.31it/s]\n",
      "100%|██████████| 9334/9334 [00:08<00:00, 1058.02it/s]\n",
      "100%|██████████| 9334/9334 [00:08<00:00, 1102.77it/s]\n",
      "100%|██████████| 9334/9334 [00:09<00:00, 1008.23it/s]\n",
      "100%|██████████| 9334/9334 [00:09<00:00, 970.94it/s]]\n",
      "100%|██████████| 9334/9334 [00:08<00:00, 1068.51it/s]\n",
      "100%|██████████| 9334/9334 [00:09<00:00, 976.00it/s] \n",
      "100%|██████████| 9334/9334 [00:09<00:00, 958.70it/s]]\n",
      "100%|██████████| 9334/9334 [00:08<00:00, 1107.15it/s]\n",
      "100%|██████████| 9334/9334 [00:09<00:00, 1008.62it/s]\n",
      "100%|██████████| 9334/9334 [00:09<00:00, 1022.24it/s]\n",
      "100%|██████████| 9334/9334 [00:09<00:00, 982.85it/s] \n",
      "100%|██████████| 9334/9334 [00:09<00:00, 1029.77it/s]\n",
      "100%|██████████| 9334/9334 [00:09<00:00, 965.60it/s] \n",
      "100%|██████████| 9334/9334 [00:09<00:00, 963.20it/s] \n",
      "100%|██████████| 9334/9334 [00:09<00:00, 943.97it/s] \n",
      "100%|██████████| 9334/9334 [00:09<00:00, 1032.49it/s]\n",
      "100%|██████████| 9334/9334 [00:09<00:00, 982.27it/s] \n",
      "100%|██████████| 9334/9334 [00:09<00:00, 942.26it/s] \n",
      "100%|██████████| 9334/9334 [00:09<00:00, 1028.56it/s]\n",
      "100%|██████████| 9334/9334 [00:10<00:00, 925.12it/s] \n",
      "100%|██████████| 9334/9334 [00:09<00:00, 1034.24it/s]\n",
      "100%|██████████| 9334/9334 [00:09<00:00, 939.71it/s] \n",
      "100%|██████████| 9334/9334 [00:09<00:00, 936.43it/s] \n",
      "100%|██████████| 9334/9334 [00:10<00:00, 919.54it/s] \n",
      "100%|██████████| 9334/9334 [00:10<00:00, 915.25it/s] \n",
      "100%|██████████| 9334/9334 [00:09<00:00, 1014.47it/s]\n",
      "100%|██████████| 9334/9334 [00:10<00:00, 904.59it/s] \n",
      "100%|██████████| 9334/9334 [00:09<00:00, 1014.86it/s]\n",
      "100%|██████████| 9334/9334 [00:09<00:00, 979.82it/s] \n",
      "100%|██████████| 9334/9334 [00:09<00:00, 988.48it/s] \n",
      "100%|██████████| 9294/9294 [00:09<00:00, 1000.86it/s]\n",
      "100%|██████████| 9334/9334 [00:09<00:00, 980.36it/s] \n",
      "100%|██████████| 9334/9334 [00:10<00:00, 892.47it/s] \n",
      "100%|██████████| 9334/9334 [00:10<00:00, 915.40it/s] \n",
      "100%|██████████| 9334/9334 [00:09<00:00, 955.37it/s] \n",
      "100%|██████████| 9334/9334 [00:10<00:00, 919.02it/s] \n",
      "100%|██████████| 9334/9334 [00:09<00:00, 962.91it/s] \n",
      "100%|██████████| 9334/9334 [00:10<00:00, 909.34it/s] \n",
      "100%|██████████| 9334/9334 [00:09<00:00, 981.42it/s] \n",
      "100%|██████████| 9334/9334 [00:10<00:00, 908.25it/s] \n",
      "100%|██████████| 9334/9334 [00:09<00:00, 1006.41it/s]\n",
      "100%|██████████| 9334/9334 [00:10<00:00, 892.10it/s] \n",
      "100%|██████████| 9334/9334 [00:10<00:00, 910.41it/s] \n",
      "100%|██████████| 9334/9334 [00:10<00:00, 893.04it/s] \n",
      "100%|██████████| 9334/9334 [00:10<00:00, 888.94it/s] \n",
      "100%|██████████| 9334/9334 [00:10<00:00, 875.13it/s] \n"
     ]
    }
   ],
   "source": [
    "def pseudo_label_batch(data, vocab):\n",
    "    def pseudo_label(x):\n",
    "        score = {k: 0 for k in vocab}\n",
    "        for k, v in vocab.items():\n",
    "            cnt = 0\n",
    "            for w in v:\n",
    "                if w[0] in x:\n",
    "                    score[k] += w[1]\n",
    "                    cnt += 1\n",
    "            if cnt == 0:\n",
    "                score[k] = 0\n",
    "            else:\n",
    "                score[k] /= (cnt ** 0.5)\n",
    "        return list(score.values())\n",
    "    def pseudo_label(x):\n",
    "        score = {k: 0 for k in vocab}\n",
    "        for k, v in vocab.items():\n",
    "            for w in v:\n",
    "                if w in x:\n",
    "                    score[k] += 1\n",
    "        return list(score.values())\n",
    "\n",
    "    plabel = []\n",
    "    for doc in tqdm(data):\n",
    "        plabel.append(np.argmax(pseudo_label(doc)))\n",
    "    return plabel\n",
    "\n",
    "from functools import partial\n",
    "\n",
    "pseudo_label_batch_p = partial(pseudo_label_batch, vocab=dic)\n",
    "\n",
    "plabel = process_data(data, pseudo_label_batch_p, num_workers=60)"
   ]
  },
  {
   "cell_type": "code",
   "execution_count": 60,
   "id": "fd136296-ed66-4fe4-a485-aaed63dc6d6c",
   "metadata": {},
   "outputs": [
    {
     "data": {
      "text/plain": [
       "{0, 1, 2, 3, 4, 5, 6, 7, 8, 9, 10, 11, 12, 13}"
      ]
     },
     "execution_count": 60,
     "metadata": {},
     "output_type": "execute_result"
    }
   ],
   "source": [
    "set(plabel)"
   ]
  },
  {
   "cell_type": "code",
   "execution_count": 61,
   "id": "be577f77-38b7-44b4-9fa6-07f67195f575",
   "metadata": {},
   "outputs": [
    {
     "data": {
      "text/plain": [
       "0.27028214285714286"
      ]
     },
     "execution_count": 61,
     "metadata": {},
     "output_type": "execute_result"
    }
   ],
   "source": [
    "plabel = np.array(plabel)\n",
    "label = np.array(label)\n",
    "np.mean(plabel == label)"
   ]
  },
  {
   "cell_type": "code",
   "execution_count": null,
   "id": "360b3119-c58d-4198-a77d-b504d60f2d98",
   "metadata": {},
   "outputs": [],
   "source": []
  },
  {
   "cell_type": "code",
   "execution_count": 56,
   "id": "f28170c9-31b3-40ff-b102-220eca926e85",
   "metadata": {},
   "outputs": [
    {
     "name": "stderr",
     "output_type": "stream",
     "text": [
      "100%|██████████| 14/14 [00:00<00:00, 1569.01it/s]"
     ]
    },
    {
     "name": "stdout",
     "output_type": "stream",
     "text": [
      "0 0.645\n",
      "1 0.927375\n",
      "2 0.194875\n",
      "3 0.432175\n",
      "4 0.337425\n",
      "5 0.013\n",
      "6 0.59065\n",
      "7 0.9355\n",
      "8 0.7808\n",
      "9 0.002875\n",
      "10 0.978925\n",
      "11 0.327875\n",
      "12 0.706475\n",
      "13 0.906475\n"
     ]
    },
    {
     "name": "stderr",
     "output_type": "stream",
     "text": [
      "\n"
     ]
    }
   ],
   "source": [
    "for i in tqdm(range(len(set(label)))):\n",
    "    print(i, np.mean(label[label == i] == plabel[label==i]))"
   ]
  },
  {
   "cell_type": "code",
   "execution_count": 62,
   "id": "45b0d5ad-f68c-4fba-8798-4f1c3c8b3a2d",
   "metadata": {},
   "outputs": [
    {
     "name": "stderr",
     "output_type": "stream",
     "text": [
      "100%|██████████| 14/14 [00:00<00:00, 1046.95it/s]"
     ]
    },
    {
     "name": "stdout",
     "output_type": "stream",
     "text": [
      "0 0.254475\n",
      "1 0.64595\n",
      "2 0.1094\n",
      "3 0.041125\n",
      "4 0.16575\n",
      "5 0.02585\n",
      "6 0.095375\n",
      "7 0.402425\n",
      "8 0.975575\n",
      "9 0.008925\n",
      "10 0.377875\n",
      "11 0.323325\n",
      "12 0.214625\n",
      "13 0.143275\n"
     ]
    },
    {
     "name": "stderr",
     "output_type": "stream",
     "text": [
      "\n"
     ]
    }
   ],
   "source": [
    "for i in tqdm(range(len(set(label)))):\n",
    "    print(i, np.mean(label[label == i] == plabel[label==i]))"
   ]
  },
  {
   "cell_type": "code",
   "execution_count": null,
   "id": "e9d896c1-a840-4665-bea6-d9456a2687cd",
   "metadata": {},
   "outputs": [],
   "source": []
  }
 ],
 "metadata": {
  "kernelspec": {
   "display_name": "Python 3",
   "language": "python",
   "name": "python3"
  },
  "language_info": {
   "codemirror_mode": {
    "name": "ipython",
    "version": 3
   },
   "file_extension": ".py",
   "mimetype": "text/x-python",
   "name": "python",
   "nbconvert_exporter": "python",
   "pygments_lexer": "ipython3",
   "version": "3.8.10"
  }
 },
 "nbformat": 4,
 "nbformat_minor": 5
}
