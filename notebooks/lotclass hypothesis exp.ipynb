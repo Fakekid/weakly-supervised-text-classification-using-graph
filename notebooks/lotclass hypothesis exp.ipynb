{
 "cells": [
  {
   "cell_type": "code",
   "execution_count": 2,
   "metadata": {},
   "outputs": [],
   "source": [
    "import pickle as pkl\n",
    "from transformers import BertTokenizer"
   ]
  },
  {
   "cell_type": "code",
   "execution_count": null,
   "metadata": {},
   "outputs": [],
   "source": []
  },
  {
   "cell_type": "code",
   "execution_count": 3,
   "metadata": {},
   "outputs": [],
   "source": [
    "tker = BertTokenizer.from_pretrained('bert-base-uncased')"
   ]
  },
  {
   "cell_type": "code",
   "execution_count": null,
   "metadata": {},
   "outputs": [],
   "source": []
  },
  {
   "cell_type": "code",
   "execution_count": 4,
   "metadata": {},
   "outputs": [],
   "source": [
    "with open('cate_docs.che', 'rb') as fin:\n",
    "    docs = pkl.load(fin)"
   ]
  },
  {
   "cell_type": "code",
   "execution_count": 5,
   "metadata": {},
   "outputs": [],
   "source": [
    "with open('cate_top_preds.che', 'rb') as fin:\n",
    "    preds = pkl.load(fin)"
   ]
  },
  {
   "cell_type": "code",
   "execution_count": 6,
   "metadata": {},
   "outputs": [
    {
     "data": {
      "text/plain": [
       "(4, 4)"
      ]
     },
     "execution_count": 6,
     "metadata": {},
     "output_type": "execute_result"
    }
   ],
   "source": [
    "len(docs), len(preds)"
   ]
  },
  {
   "cell_type": "code",
   "execution_count": 9,
   "metadata": {
    "scrolled": true
   },
   "outputs": [
    {
     "name": "stdout",
     "output_type": "stream",
     "text": [
      "current category 0\n",
      "current category 1\n",
      "current category 2\n",
      "current category 3\n"
     ]
    }
   ],
   "source": [
    "compares = {}\n",
    "for i in docs.keys():\n",
    "    print(f'current category {i}')\n",
    "    compares.setdefault(i, [])\n",
    "    doc = docs[i]\n",
    "    pred = preds[i]\n",
    "    \n",
    "    for j in range(len(doc)):  # batch\n",
    "#         print(doc[j].shape, pred[j].shape)\n",
    "        for k in range(len(doc[j])):\n",
    "            text = ' '.join([i for i in tker.convert_ids_to_tokens(doc[j][k]) if not i.startswith('[')])\n",
    "            candi = ' '.join([i for i in tker.convert_ids_to_tokens(pred[j][k]) if not i.startswith('[')])\n",
    "            \n",
    "            compares[i].append([text, candi])\n",
    "#     print(doc[0])\n",
    "#     print(pred[0])"
   ]
  },
  {
   "cell_type": "code",
   "execution_count": 12,
   "metadata": {},
   "outputs": [],
   "source": [
    "import numpy as np"
   ]
  },
  {
   "cell_type": "code",
   "execution_count": 15,
   "metadata": {},
   "outputs": [
    {
     "name": "stdout",
     "output_type": "stream",
     "text": [
      "0.03 0.16 0.46\n",
      "0.03 0.16 0.38\n",
      "0.02 0.14 0.36\n",
      "0.03 0.19 0.46\n"
     ]
    }
   ],
   "source": [
    "for k, v in compares.items():\n",
    "    intras = []\n",
    "    for cp in v:\n",
    "        intras.append([len(set(cp[0].split(' ')).intersection(cp[1].split(' '))), len(set(cp[0]))])\n",
    "    intras = np.array(intras)\n",
    "    r = intras[:, 0] / intras[:, 1]\n",
    "    print(round(np.min(r), 2), round(np.mean(r), 2), round(np.max(r), 2))"
   ]
  },
  {
   "cell_type": "code",
   "execution_count": null,
   "metadata": {},
   "outputs": [],
   "source": []
  },
  {
   "cell_type": "code",
   "execution_count": 53,
   "metadata": {},
   "outputs": [
    {
     "data": {
      "text/plain": [
       "\"re ##ap ##ing from the wild wind . if you are going to depend on a windmill , it ' s best to find a windy place to put it . companies that can assess a location ' s wind potential are in demand , and they are pushing the technology to predict shifting breeze ##s . by john ga ##rt ##ner .\""
      ]
     },
     "execution_count": 53,
     "metadata": {},
     "output_type": "execute_result"
    }
   ],
   "source": [
    "text"
   ]
  },
  {
   "cell_type": "code",
   "execution_count": 59,
   "metadata": {},
   "outputs": [],
   "source": [
    "inters = []\n",
    "for cp in compares:\n",
    "    inters.append([len(set(cp[0].split(' ')).intersection(cp[1].split(' '))), len(set(cp[0]))])\n"
   ]
  },
  {
   "cell_type": "code",
   "execution_count": 61,
   "metadata": {},
   "outputs": [
    {
     "data": {
      "text/plain": [
       "array([[ 5, 29],\n",
       "       [ 8, 32],\n",
       "       [ 2, 29],\n",
       "       ...,\n",
       "       [ 7, 28],\n",
       "       [ 5, 26],\n",
       "       [ 3, 27]])"
      ]
     },
     "execution_count": 61,
     "metadata": {},
     "output_type": "execute_result"
    }
   ],
   "source": [
    "import numpy as np\n",
    "inters = np.array(inters)\n",
    "inters"
   ]
  },
  {
   "cell_type": "code",
   "execution_count": 62,
   "metadata": {},
   "outputs": [
    {
     "data": {
      "text/plain": [
       "array([0.17241379, 0.25      , 0.06896552, ..., 0.25      , 0.19230769,\n",
       "       0.11111111])"
      ]
     },
     "execution_count": 62,
     "metadata": {},
     "output_type": "execute_result"
    }
   ],
   "source": [
    "inters[:, 0] / inters[:, 1]"
   ]
  },
  {
   "cell_type": "code",
   "execution_count": 69,
   "metadata": {
    "scrolled": true
   },
   "outputs": [
    {
     "data": {
      "text/plain": [
       "(0.16219512862285737, 0.024390243902439025, 0.4642857142857143)"
      ]
     },
     "execution_count": 69,
     "metadata": {},
     "output_type": "execute_result"
    }
   ],
   "source": [
    "np.mean(inters[:, 0] / inters[:, 1]), np.min(inters[:, 0] / inters[:, 1]), np.max(inters[:, 0] / inters[:, 1])"
   ]
  },
  {
   "cell_type": "code",
   "execution_count": null,
   "metadata": {},
   "outputs": [],
   "source": []
  },
  {
   "cell_type": "code",
   "execution_count": 33,
   "metadata": {},
   "outputs": [
    {
     "data": {
      "text/plain": [
       "torch.Size([64, 200])"
      ]
     },
     "execution_count": 33,
     "metadata": {},
     "output_type": "execute_result"
    }
   ],
   "source": [
    "docs[0][0].shape"
   ]
  },
  {
   "cell_type": "code",
   "execution_count": 44,
   "metadata": {},
   "outputs": [
    {
     "data": {
      "text/plain": [
       "(torch.Size([50]), torch.Size([50]))"
      ]
     },
     "execution_count": 44,
     "metadata": {},
     "output_type": "execute_result"
    }
   ],
   "source": [
    "preds[3][0][0].shape, preds[3][0][1].shape"
   ]
  },
  {
   "cell_type": "code",
   "execution_count": null,
   "metadata": {},
   "outputs": [],
   "source": []
  },
  {
   "cell_type": "markdown",
   "metadata": {},
   "source": [
    "# 词多样性验证"
   ]
  },
  {
   "cell_type": "code",
   "execution_count": 12,
   "metadata": {},
   "outputs": [],
   "source": [
    "from transformers import BertTokenizer\n",
    "\n",
    "tker = BertTokenizer.from_pretrained('bert-base-uncased')"
   ]
  },
  {
   "cell_type": "code",
   "execution_count": 119,
   "metadata": {},
   "outputs": [],
   "source": [
    "with open('datasets/dbpedia/train.txt', 'r') as fin:\n",
    "    data = fin.readlines()"
   ]
  },
  {
   "cell_type": "code",
   "execution_count": 120,
   "metadata": {},
   "outputs": [],
   "source": [
    "with open('datasets/dbpedia/train_labels.txt', 'r') as fin:\n",
    "    labels = list(map(lambda x: int(x.replace('\\n', '')), fin.readlines()))"
   ]
  },
  {
   "cell_type": "code",
   "execution_count": 121,
   "metadata": {},
   "outputs": [
    {
     "data": {
      "text/plain": [
       "{0, 1, 2, 3, 4, 5, 6, 7, 8, 9, 10, 11, 12, 13}"
      ]
     },
     "execution_count": 121,
     "metadata": {},
     "output_type": "execute_result"
    }
   ],
   "source": [
    "set(labels)"
   ]
  },
  {
   "cell_type": "code",
   "execution_count": 131,
   "metadata": {},
   "outputs": [
    {
     "name": "stdout",
     "output_type": "stream",
     "text": [
      "40000\n",
      "40000\n",
      "40000\n",
      "40000\n",
      "40000\n",
      "40000\n",
      "40000\n",
      "40000\n",
      "40000\n",
      "40000\n",
      "40000\n",
      "40000\n",
      "40000\n",
      "40000\n"
     ]
    }
   ],
   "source": [
    "for c in range(len(set(labels))):\n",
    "    data_ = [data[i] for i in range(len(data)) if labels[i] == c]\n",
    "    print(len(data_))"
   ]
  },
  {
   "cell_type": "code",
   "execution_count": 140,
   "metadata": {},
   "outputs": [],
   "source": [
    "import pickle as pkl\n",
    "import torch\n",
    "\n",
    "lc = torch.load('datasets/dbpedia/category_vocab.pt.bak_l')\n",
    "oc = torch.load('datasets/dbpedia/category_vocab.pt.bak_o')"
   ]
  },
  {
   "cell_type": "code",
   "execution_count": 141,
   "metadata": {},
   "outputs": [],
   "source": [
    "lc = {k: tker.convert_ids_to_tokens(v) for k, v in lc.items()}\n",
    "oc = {k: tker.convert_ids_to_tokens(v) for k, v in oc.items()}"
   ]
  },
  {
   "cell_type": "code",
   "execution_count": 142,
   "metadata": {},
   "outputs": [
    {
     "data": {
      "text/plain": [
       "[[44, 128],\n",
       " [37, 201],\n",
       " [49, 148],\n",
       " [53, 49],\n",
       " [72, 91],\n",
       " [71, 91],\n",
       " [42, 85],\n",
       " [42, 195],\n",
       " [52, 37],\n",
       " [54, 48],\n",
       " [46, 184],\n",
       " [38, 115],\n",
       " [34, 93],\n",
       " [41, 282]]"
      ]
     },
     "execution_count": 142,
     "metadata": {},
     "output_type": "execute_result"
    }
   ],
   "source": [
    "[[len(lc[i]), len(oc[i])] for i in range(len(lc))]"
   ]
  },
  {
   "cell_type": "code",
   "execution_count": 115,
   "metadata": {},
   "outputs": [],
   "source": [
    "lc[0] = ['politics', 'political', 'politicians', 'government', 'elections', 'politician', 'democracy', 'democratic', 'governing', 'party', 'state', 'leadership', 'election', 'politically', 'affairs', 'issues', 'governments', 'voters', 'debate', 'cabinet', 'congress', 'democrat', 'administration', 'president', 'religion', 'republican', 'history', 'war', 'crisis', 'legislature', 'candidates', 'governance', 'pr', 'opposition', 'problems', 'relations', 'finance', 'justice', 'struggle', 'rhetoric', 'right', 'convention', 'votes', 'fighting', 'violence', 'senate', 'matters', 'fight', 'us', 'parliament', 'republicans', 'trouble', 'one', 'conflict', 'soil', 'voting', 'law', 'parliamentary', 'representation', 'house', 'reality', 'wars', 'campaign', 'contest', 'candidate', 'campaigns', 'legislative', 'transition', 'question', 'choice']\n",
    "lc[1] = ['sports', 'games', 'sporting', 'athletics', 'game', 'national', 'news', 'athletic', 'espn', 'soccer', 'stadium', 'basketball', 'arts', 'racing', 'baseball', 'tv', 'hockey', 'pro', 'press', 'team', 'red', 'home', 'bay', 'kings', 'legends', 'city', 'winning', 'miracle', 'olympic', 'go', 'giants', 'champions', 'ball', 'players', 'boxing', 'prime', 'teams', 'athletes', 'tennis', 'club', 'blue', 'coaches', 'gold', 'west', 'toronto', 'classic', 'pittsburgh', 'super', 'nfl', 'magic', 'key', 'times', 'field', 'warriors', 'rogers', 'stars', 'gym', 'championship', 'losses', 'college', 'mlb', 'veterans', 'rugby', 'hits', 'sun', 'bc', 'events', 'south', 'nba']\n",
    "lc[2] = ['business', 'businesses', 'trade', 'commercial', 'enterprise', 'shop', 'money', 'market', 'commerce', 'corporate', 'global', 'future', 'sales', 'general', 'group', 'retail', 'companies', 'management', 'operations', 'operation', 'corporation', 'store', 'division', 'firm', 'venture', 'brand', 'contract', 'revenue', 'economic', 'branch', 'subsidiary', 'personal', 'cash', 'short', 'line', 'bank', 'customer', 'concern', 'growth', 'chain', 'strategic', 'family', 'work', 'products', 'big', 'scientific', 'virtual', 'engineering', 'sector', 'trading', 'portfolio', 'ceo', 'segment', 'investment', 'working', 'executive', 'private', 'services', 'public', 'job', 'marketing']\n",
    "lc[3] = ['technology', 'technologies', 'tech', 'software', 'technological', 'device', 'equipment', 'hardware', 'infrastructure', 'devices', 'system', 'knowledge', 'technique', 'digital', 'technical', 'concept', 'systems', 'gear', 'techniques', 'functionality', 'material', 'process', 'facility', 'feature', 'capability', 'content', 'method', 'security', 'ability', 'network', 'internet', 'computing', 'chip', 'smart', 'modern', 'communication', 'language', 'mechanism', 'computer', 'design', 'cyber', 'standard', 'tool', 'development', 'format', 'protocol', 'wireless', 'phone', 'information', 'program', 'ce', 'plant', 'large', 'data', 'project', 'application', 'theory', 'science', 'performance', 'common', 'os', 'ict', 'speed', 'sensor', 'capabilities', 'electronic', 'society', 'silicon', 'memory', 'invention']"
   ]
  },
  {
   "cell_type": "code",
   "execution_count": 72,
   "metadata": {},
   "outputs": [],
   "source": [
    "lc[0] = ['politics', 'political', 'politicians', 'elections', 'politician', 'democracy', 'democratic', 'governing', 'party', 'leadership', 'election', 'politically', 'issues', 'governments', 'voters', 'debate', 'cabinet', 'congress', 'democrat', 'administration', 'president', 'religion', 'republican', 'legislature', 'candidates', 'governance', 'pr', 'opposition', 'problems', 'relations', 'justice', 'struggle', 'rhetoric', 'right', 'convention', 'votes', 'fighting', 'violence', 'senate', 'matters', 'fight', 'us', 'parliament', 'republicans', 'conflict', 'soil', 'voting', 'law', 'parliamentary', 'representation', 'reality', 'wars', 'contest', 'candidate', 'campaigns', 'legislative', 'transition', 'question', 'choice', 'culture', 'labor', 'leaders', 'constitutional', 'nomination', 'leader', 'people', 'kerry', 'democrats', 'mp', 'assembly', 'labour', 'territory', 'seeking', 'matter', 'questions', 'motion', 'debates', 'diplomacy', 'issue', 'america', 'majority', 'swing', 'elect', 'balance', 'usa', 'proper', 'youth', 'strife', 'policies', 'finances', 'limits', 'ways', 'civic', 'forces', 'supporters', 'conservative', 'seek', 'govern', 'agriculture', 'corruption', 'parties', 'elected', 'vote', 'blood', 'obama', 'malaysia', 'ministry', 'favor', 'minister', 'dal', 'conscience', 'ruling', 'pop', 'ideology', 'borders', 'congressional', 'stability', 'winners', 'primary', 'pd', 'tactics', 'presidential', 'sovereignty', 'republic', 'climate', 'gain', 'boundaries', 'strength', 'details', 'dc', 'controversy', 'primaries', 'serving', 'interests', 'symbols', 'montana', 'economics', 'mayor', 'europe', 'neville', 'factions', 'ethics', 'vs', 'struggles', 'unity', 'poetry', 'hands', 'lee', 'mr', 'situation', 'confidence', 'dem', 'directly', 'change', 'families', 'victory', 'etat', 'terms', 'term', 'member', 'partisans', 'toilet', 'fact', 'conventions', 'tori', 'forms', 'ideas', 'food', 'religious', 'education', 'throne', 'pm', 'prayer', 'reform', 'margins', 'much', 'russia', 'influence', 'presidents']\n",
    "lc[1] = ['sports', 'games', 'sporting', 'athletics', 'game', 'athletic', 'espn', 'soccer', 'stadium', 'basketball', 'arts', 'racing', 'baseball', 'tv', 'hockey', 'pro', 'press', 'team', 'red', 'bay', 'kings', 'legends', 'miracle', 'olympic', 'giants', 'champions', 'ball', 'players', 'boxing', 'teams', 'athletes', 'tennis', 'club', 'blue', 'coaches', 'west', 'toronto', 'classic', 'pittsburgh', 'super', 'nfl', 'key', 'warriors', 'rogers', 'stars', 'gym', 'championship', 'losses', 'college', 'mlb', 'veterans', 'rugby', 'hits', 'sun', 'bc', 'south', 'nba', 'farm', 'schools', 'cycling', 'williams', 'rays', 'yankees', 'classics', 'race', 'former', 'best', 'skills', 'al', 'play', 'matches', 'bonds', 'braves', 'cha', 'chicago', 'leisure', 'expo', 'north', 'olympics', 'boston', 'broadcasting', 'radio', 'finals', 'match', 'athlete', 'motor', 'tournament', 'heat', 'cubs', 'coaching', 'television', 'park', 'indoor', 'blues', 'powers', 'american', 'statistics', 'wrestling', 'tracks', 'ko', 'last', 'golf', 'cup', 'sox', 'including', 'gymnastics', 'track', 'patriots', 'luck', 'stats', 'champ', 'also', 'fitness', 'sportsman', 'retired', 'dreams', 'rubber', 'championships', 'talk', 'plus', 'cis', 'ring', 'exhibition', 'broadcast', 'fields', 'swimming', 'great', 'cricket', 'nhl', 'ras', 'truth', 'kids', 'school', 'cultural', 'steel', 'road', 'secondary', 'bold', 'volleyball', 'trail', 'jazz', 'singles', 'boxer', 'straight', 'gay', 'outdoor', 'golden', 'water', 'newspaper', 'steelers', 'atlanta', 'rights', 'olympia', 'total', 'live', 'single', 'main', 'highlights', 'action', 'cycle', 'star', 'hoop', 'canadian', 'urban', 'joe', 'paralympic', 'tour', 'historical', 'che', 'ryan', 'lions', 'disabled', 'league', 'coach', 'pep', 'chiefs', 'trails', 'lives', 'colours', 'movie', 'british', 'indianapolis', 'metro', 'hitting', 'weather']\n",
    "lc[2] = ['business', 'businesses', 'shop', 'market', 'corporate', 'sales', 'group', 'companies', 'operations', 'operation', 'store', 'division', 'firm', 'venture', 'contract', 'revenue', 'branch', 'subsidiary', 'cash', 'short', 'bank', 'customer', 'concern', 'growth', 'chain', 'strategic', 'work', 'sector', 'trading', 'portfolio', 'ceo', 'segment', 'investment', 'working', 'executive', 'job', 'marketing', 'part', 'stores', 'businessman', 'stock', 'arm', 'name', 'fast', 'wealth', 'portion', 'production', 'account', 'sale', 'factory', 'banking', 'enterprises', 'practice', 'high', 'la', 'merchant', 'assets', 'side', 'activity', 'value', 'franchise', 'shopping', 'middle', 'close', 'car', 'component', 'profit', 'section', 'story', 'act', 'operating', 'fleet', 'partnership', 'offering', 'managed', 'long', 'fisher', 'decision', 'success', 'marketplace', 'presence', 'markets', 'traffic', 'fund', 'department', 'customers', 'good', 'corp', 'self', 'top', 'ag', 'pc', 'empire', 'profession', 'inc', 'reputation', 'sa', 'mission', 'transaction', 'deal', 'merchants', 'businessmen', 'ventures', 'credit', 'dream', 'goal', 'accounts', 'license', 'task', 'competition', 'plan', 'foreign', 'morgan', 'japanese', 'rural', 'niche', 'experience', 'profits', 'solid', 'third', 'magazine', 'room', 'giant', 'physical', 'pharmacy', 'accounting', 'japan', 'fortune', 'thing', 'little', 'street', 'boutique', 'entrepreneur', 'concerns', 'limited', 'day', 'category', 'hi', 'joint', 'going', 'ab']\n",
    "lc[3] = ['technology', 'technologies', 'technological', 'device', 'equipment', 'hardware', 'infrastructure', 'devices', 'knowledge', 'technique', 'concept', 'systems', 'gear', 'techniques', 'functionality', 'material', 'facility', 'feature', 'capability', 'content', 'method', 'ability', 'internet', 'computing', 'chip', 'smart', 'modern', 'communication', 'language', 'mechanism', 'cyber', 'standard', 'tool', 'format', 'protocol', 'wireless', 'phone', 'information', 'ce', 'plant', 'theory', 'common', 'os', 'ict', 'speed', 'sensor', 'capabilities', 'electronic', 'silicon', 'memory', 'invention', 'driver', 'edge', 'machine', 'tools', 'intelligence', 'architecture', 'pioneer', 'electronics', 'lan', 'scheme', 'central', 'intel', 'telecom', 'se', 'privacy', 'time', 'networking', 'advanced', 'materials', 'features', 'bridge', 'intelligent', 'center', 'mechanisms', 'generation', 'semiconductor', 'standards', 'telecommunications', 'enabled', 'multimedia', 'computers', 'procedure', 'code', 'concepts', 'flash', 'storage', 'integration', 'resource', 'card', 'instrumentation', 'machines', 'idea', 'model', 'methods', 'skill', 'northern', 'applications', 'algorithm', 'extension', 'connected', 'processor', 'weaponry', 'pod', 'music', 'weapon', 'access', 'knowing', 'discovery', 'something', 'windows', 'powered', 'weapons', 'provider', 'practical', 'engine', 'platforms', 'western', 'processing', 'machinery', 'electricity', 'smartphone', 'wire', 'mathematics', 'mechanical', 'civilization', 'developer', 'back', 'crop', 'implementation', 'screen', 'sophisticated', 'soc', 'hybrid', 'methodology', 'chips', 'drive', 'site', 'plants', 'fuel', 'facilities', 'suite', 'innovation', 'aerospace', 'related', 'principles', 'measure', 'patent', 'connectivity', 'robotics', 'biotechnology', 'phones', 'color', 'framework', 'instrument', 'logic', 'fiber', 'telephone']"
   ]
  },
  {
   "cell_type": "code",
   "execution_count": 136,
   "metadata": {},
   "outputs": [
    {
     "data": {
      "text/plain": [
       "[44, 37, 49, 53, 72, 71, 42, 42, 52, 54, 46, 38, 34, 41]"
      ]
     },
     "execution_count": 136,
     "metadata": {},
     "output_type": "execute_result"
    }
   ],
   "source": [
    "lens = [len(i) for k, i in lc.items()]\n",
    "lens"
   ]
  },
  {
   "cell_type": "code",
   "execution_count": 137,
   "metadata": {},
   "outputs": [],
   "source": [
    "for k, v in oc.items():\n",
    "    oc[k] = oc[k][:lens[k]]"
   ]
  },
  {
   "cell_type": "code",
   "execution_count": 143,
   "metadata": {},
   "outputs": [
    {
     "name": "stdout",
     "output_type": "stream",
     "text": [
      "0.722 0.948 0.226\n",
      "0.984 0.999 0.015\n",
      "0.618 0.815 0.197\n",
      "0.414 0.885 0.471\n",
      "0.846 0.904 0.058\n",
      "0.447 0.795 0.348\n",
      "0.743 0.937 0.195\n",
      "0.955 0.988 0.033\n",
      "0.999 0.971 -0.028\n",
      "0.156 0.189 0.033\n",
      "0.948 0.984 0.035\n",
      "0.98 0.985 0.005\n",
      "0.962 0.969 0.007\n",
      "0.91 0.989 0.079\n"
     ]
    }
   ],
   "source": [
    "for c in range(len(lens)):\n",
    "    data_ = [data[i] for i in range(len(data)) if labels[i] == c]\n",
    "    dn = len(data_)\n",
    "    \n",
    "    lset = set(lc[c])\n",
    "    oset = set(oc[c])\n",
    "    \n",
    "    lcnt = 0\n",
    "    ocnt = 0\n",
    "    for d in data_:\n",
    "        if len(lset.intersection([item.lower() for item in d.split(' ')])) > 0:\n",
    "            lcnt += 1\n",
    "        if len(oset.intersection([item.lower() for item in d.split(' ')])) > 0:\n",
    "            ocnt += 1\n",
    "    print(round(lcnt / dn, 3), round(ocnt / dn, 3), round(ocnt / dn - lcnt / dn, 3))"
   ]
  },
  {
   "cell_type": "code",
   "execution_count": null,
   "metadata": {},
   "outputs": [],
   "source": []
  }
 ],
 "metadata": {
  "kernelspec": {
   "display_name": "nlp_task",
   "language": "python",
   "name": "nlp_task"
  },
  "language_info": {
   "codemirror_mode": {
    "name": "ipython",
    "version": 3
   },
   "file_extension": ".py",
   "mimetype": "text/x-python",
   "name": "python",
   "nbconvert_exporter": "python",
   "pygments_lexer": "ipython3",
   "version": "3.7.7"
  }
 },
 "nbformat": 4,
 "nbformat_minor": 4
}
