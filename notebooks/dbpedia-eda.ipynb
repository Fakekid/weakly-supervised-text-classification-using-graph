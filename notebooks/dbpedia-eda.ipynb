{
 "cells": [
  {
   "cell_type": "code",
   "execution_count": 1,
   "metadata": {},
   "outputs": [],
   "source": [
    "with open('datasets/dbpedia/train.txt', 'r') as fin:\n",
    "    lines = fin.readlines()"
   ]
  },
  {
   "cell_type": "code",
   "execution_count": 2,
   "metadata": {},
   "outputs": [
    {
     "data": {
      "text/plain": [
       "['E. D. Abbott Ltd. Abbott of Farnham E D Abbott Limited was a British coachbuilding business based in Farnham Surrey trading under that name from 1929. A major part of their output was under sub-contract to motor vehicle manufacturers. Their business closed in 1972.\\n',\n",
       " \"Schwan-Stabilo. Schwan-STABILO is a German maker of pens for writing colouring and cosmetics as well as markers and highlighters for office use. It is the world's largest manufacturer of highlighter pens Stabilo Boss.\\n\",\n",
       " 'Q-workshop. Q-workshop is a Polish company located in Poznań that specializes in designand production of polyhedral dice and dice accessories for use in various games ( role-playing gamesboard games and tabletop wargames ) . They also run an online retail store and maintainan active forum community.Q-workshop was established in 2001 by Patryk Strzelewicz – a student from Poznań. Initiallythe company sold its products via online auction services but in 2005 a website and online store wereestablished.\\n',\n",
       " 'Marvell Software Solutions Israel. Marvell Software Solutions Israel known as RADLAN Computer Communications Limited before 2007 is a wholly owned subsidiary of Marvell Technology Group that specializes in local area network ( LAN ) technologies.\\n',\n",
       " 'Bergan Mercy Medical Center. Bergan Mercy Medical Center is a hospital located in Omaha Nebraska. It is part of the Alegent Health System.\\n',\n",
       " 'The Unsigned Guide. The Unsigned Guide is an online contacts directory and careers guide for the UK music industry. Founded in 2003 and first published as a printed directory The Unsigned Guide became an online only resource in November 2011.\\n',\n",
       " 'Rest of the world. Within sports and games played at the international competitive level the Rest of the World refers to a team of players from many countries of origin that compete against a single individual or a team from a single group such as a club or country. The team was formed in 1998.\\n',\n",
       " 'Globoforce. Globoforce is a multinational company co-headquartered in Southborough Massachusetts and Dublin Ireland providing cloud-based ( software as a service ) human capital management ( HCM ) software solutions. Its social recognition solutions are designed for employees to recognize and reward each other as incentive for performance and behaviors that are mapped to company values. A private corporation Globoforce is co-headquartered in Southborough Massachusetts and Dublin Ireland.\\n',\n",
       " 'Rompetrol. The Rompetrol Group N.V. is a Romanian oil company that operates in many countries throughout Europe. The group is active primarily in refining marketing and trading with additional operations in exploration and production and other oil industry services such as drilling EPCM and transportation.\\n',\n",
       " \"Wave Accounting. Wave is the brand name for a suite of online small business software products. The legal company name is Wave Accounting Inc. Wave is headquartered in the Leslieville neighbourhood in Toronto Canada and is currently being used in 200 countries.The company's first product was a free online accounting software designed for businesses with 1-9 employees.\\n\"]"
      ]
     },
     "execution_count": 2,
     "metadata": {},
     "output_type": "execute_result"
    }
   ],
   "source": [
    "lines[:10]"
   ]
  },
  {
   "cell_type": "code",
   "execution_count": null,
   "metadata": {},
   "outputs": [],
   "source": []
  },
  {
   "cell_type": "code",
   "execution_count": 35,
   "metadata": {},
   "outputs": [
    {
     "data": {
      "text/plain": [
       "(13, 304.2436517857143, 13587)"
      ]
     },
     "execution_count": 35,
     "metadata": {},
     "output_type": "execute_result"
    }
   ],
   "source": [
    "lens = [len(i) for i in lines]\n",
    "np.min(lens), np.mean(lens), np.max(lens)"
   ]
  },
  {
   "cell_type": "code",
   "execution_count": 39,
   "metadata": {},
   "outputs": [
    {
     "data": {
      "image/png": "[encoded data removed]",
      "text/plain": [
       "<Figure size 432x288 with 1 Axes>"
      ]
     },
     "metadata": {
      "needs_background": "light"
     },
     "output_type": "display_data"
    }
   ],
   "source": [
    "import matplotlib.pyplot as plt\n",
    "bar = plt.hist(lens, bins=100)"
   ]
  },
  {
   "cell_type": "code",
   "execution_count": null,
   "metadata": {},
   "outputs": [],
   "source": []
  },
  {
   "cell_type": "code",
   "execution_count": 4,
   "metadata": {},
   "outputs": [],
   "source": [
    "with open('datasets/dbpedia/train_labels.txt', 'r') as fin:\n",
    "    labels = [item.replace('\\n', '') for item in fin.readlines()]"
   ]
  },
  {
   "cell_type": "code",
   "execution_count": 6,
   "metadata": {},
   "outputs": [],
   "source": [
    "labels = [int(i) for i in labels]"
   ]
  },
  {
   "cell_type": "code",
   "execution_count": 10,
   "metadata": {
    "scrolled": true
   },
   "outputs": [
    {
     "name": "stdout",
     "output_type": "stream",
     "text": [
      "40000\n"
     ]
    },
    {
     "data": {
      "text/plain": [
       "['Shirvan Shahlu. Shirvan Shahlu ( Persian: شيروان شاهلو\\u200e also Romanized as Shīrvān Shāhlū; also known as Shīravān Shāmnū ) is a village in Gavdul-e Sharqi Rural District in the Central District of Malekan County East Azerbaijan Province Iran. At the 2006 census its population was 137 in 35 families.\\n',\n",
       " 'Chayly. Chayly is a village in the Qabala Rayon of Azerbaijan.It is suspected that this village has undergone a name change or no longer exists as no Azerbaijani website mentions it under this name.\\n',\n",
       " 'Gavdar. Gavdar ( Persian: گاودار\\u200e also Romanized as Gāvdār ) is a village in Liravi-ye Jonubi Rural District Imam Hassan District Deylam County Bushehr Province Iran. At the 2006 census its population was 81 in 14 families.\\n',\n",
       " 'Piskarki. Piskarki [pisˈkarki] is a village in the administrative district of Gmina Jeżewo within Świecie County Kuyavian-Pomeranian Voivodeship in north-central Poland.The village has a population of 135.\\n',\n",
       " 'Gustawów Gmina Fałków. Gustawów [ɡusˈtavuf] is a village in the administrative district of Gmina Fałków within Końskie County Świętokrzyskie Voivodeship in south-central Poland. It lies approximately 10 kilometres ( 6 mi ) south-west of Fałków 33 km ( 21 mi ) south-west of Końskie and 50 km ( 31 mi ) north-west of the regional capital Kielce.The village has a population of 160.\\n',\n",
       " 'Aliabad-e Avval. Aliabad-e Avval ( Persian: علي اباداول\\u200e also Romanized as ‘Alīābād-e Avval; also known as ‘Alīābād and ‘Alīābād-e ‘Olyā ) is a village in Gowdin Rural District in the Central District of Kangavar County Kermanshah Province Iran. At the 2006 census its population was 284 in 69 families.\\n',\n",
       " 'Yaylapınar Bayburt. Yaylapınar is a village in the District of Bayburt Bayburt Province Turkey. As of 2010 it had a population of 367 people.\\n',\n",
       " 'Tazehabad-e Marivani. Tazehabad-e Marivani ( Persian: تازه ابادمريواني\\u200e also Romanized as Tāzehābād-e Marīvānī ) is a village in Haft Ashiyan Rural District Kuzaran District Kermanshah County Kermanshah Province Iran. At the 2006 census its existence was noted but its population was not reported.\\n',\n",
       " 'Nayjuk. Nayjuk ( Persian: نايجوك\\u200e also Romanized as Nāyjūk and Nayjook; also known as Nahīn and Nājiūk ) is a village in Dowlatabad Rural District in the Central District of Abhar County Zanjan Province Iran. At the 2006 census its population was 333 in 89 families.\\n',\n",
       " 'Jarząbkowice Silesian Voivodeship. Jarząbkowice [jaʐɔmpkɔˈvit͡sɛ] is a village in the administrative district of Gmina Pawłowice within Pszczyna County Silesian Voivodeship in southern Poland. It lies approximately 7 kilometres ( 4 mi ) south of Pawłowice 20 km ( 12 mi ) south-west of Pszczyna and 44 km ( 27 mi ) south-west of the regional capital Katowice.The village has a population of 627.\\n',\n",
       " 'Malgammana. Malgammana is a village in Sri Lanka. It is located within Central Province.\\n',\n",
       " 'Stary Budzisław. Stary Budzisław [ˈstarɨ buˈd͡ʑiswaf] is a village in the administrative district of Gmina Osiek Mały within Koło County Greater Poland Voivodeship in west-central Poland.\\n',\n",
       " 'Grzymalin. Grzymalin [ɡʐɨˈmalin] is a village in the administrative district of Gmina Miłkowice within Legnica County Lower Silesian Voivodeship in south-western Poland. Prior to 1945 it was in Germany.It lies approximately 4 kilometres ( 2 mi ) north-east of Miłkowice 9 kilometres ( 6 mi ) north-west of Legnica and 68 kilometres ( 42 mi ) west of the regional capital Wrocław.\\n',\n",
       " 'Dąbrowa Milicz County. Dąbrowa [dɔmˈbrɔva] is a village in the administrative district of Gmina Krośnice within Milicz County Lower Silesian Voivodeship in south-western Poland. Prior to 1945 it was in Germany. It lies approximately 3 kilometres ( 2 mi ) north of Krośnice 8 km ( 5 mi ) south-east of Milicz and 47 km ( 29 mi ) north-east of the regional capital Wrocław.\\n',\n",
       " 'Smólsko Małe. Smólsko Małe [ˈsmulskɔ ˈmawɛ] is a village in the administrative district of Gmina Biłgoraj within Biłgoraj County Lublin Voivodeship in eastern Poland. It lies approximately 8 kilometres ( 5 mi ) south-east of Biłgoraj and 86 km ( 53 mi ) south of the regional capital Lublin.The village has a population of 176.\\n',\n",
       " 'Cheshmeh-ye Yahya. Cheshmeh-ye Yahya ( Persian: چشمه يحيي\\u200e also Romanized as Cheshmeh-ye Yaḥya ) is a village in Sarbanan Rural District in the Central District of Zarand County Kerman Province Iran. At the 2006 census its existence was noted but its population was not reported.\\n',\n",
       " 'Bandholi. Bandholi ( बन्धोली ) is a village in Gwalior district situated at a distance of 6 km from Murar on Gwalior-Behat road.\\n',\n",
       " 'Ballé Mali. Ballé is a village and seat of the commune of Dogofry in the Cercle of Nara in the Koulikoro Region of south-western Mali.\\n',\n",
       " 'Arıkaya Kozluk. Arıkaya is a village in the District of Kozluk Batman Province Turkey. As of 2011 it had a population of 677 people.\\n',\n",
       " 'Ilandža. Ilandža ( Serbian Cyrillic: Иланџа ) is a village in Serbia. It is situated in the Alibunar municipality in the South Banat District Vojvodina province. The village has a Serb ethnic majority and its population is 1727 ( 2002 census ) .\\n']"
      ]
     },
     "execution_count": 10,
     "metadata": {},
     "output_type": "execute_result"
    }
   ],
   "source": [
    "villages = [lines[i] for i, lbl in enumerate(labels) if lbl == 8]\n",
    "print(len(villages))\n",
    "villages[:20]"
   ]
  },
  {
   "cell_type": "code",
   "execution_count": 21,
   "metadata": {},
   "outputs": [
    {
     "data": {
      "text/plain": [
       "300"
      ]
     },
     "execution_count": 21,
     "metadata": {},
     "output_type": "execute_result"
    }
   ],
   "source": [
    "len('Shirvan Shahlu. Shirvan Shahlu ( Persian: شيروان شاهلو\\u200e also Romanized as Shīrvān Shāhlū; also known as Shīravān Shāmnū ) is a village in Gavdul-e Sharqi Rural District in the Central District of Malekan County East Azerbaijan Province Iran. At the 2006 census its population was 137 in 35 families.\\n',\n",
    " )"
   ]
  },
  {
   "cell_type": "code",
   "execution_count": null,
   "metadata": {},
   "outputs": [],
   "source": []
  },
  {
   "cell_type": "code",
   "execution_count": null,
   "metadata": {},
   "outputs": [],
   "source": []
  },
  {
   "cell_type": "code",
   "execution_count": 67,
   "metadata": {},
   "outputs": [],
   "source": [
    "import torch\n",
    "\n",
    "ids_dic = torch.load('/chj/dev/lianxiaolei/LOTClass/datasets/dbpedia/category_vocab.pt.bak_l')"
   ]
  },
  {
   "cell_type": "code",
   "execution_count": 14,
   "metadata": {},
   "outputs": [],
   "source": [
    "from transformers import BertTokenizer\n",
    "\n",
    "tker = BertTokenizer.from_pretrained('bert-base-uncased')"
   ]
  },
  {
   "cell_type": "code",
   "execution_count": 69,
   "metadata": {},
   "outputs": [],
   "source": [
    "dic = {k: tker.convert_ids_to_tokens(v) for k, v in ids_dic.items()}"
   ]
  },
  {
   "cell_type": "code",
   "execution_count": 70,
   "metadata": {
    "scrolled": true
   },
   "outputs": [
    {
     "data": {
      "text/plain": [
       "['village',\n",
       " 'villages',\n",
       " 'settlement',\n",
       " 'town',\n",
       " 'east',\n",
       " 'population',\n",
       " 'rural',\n",
       " 'municipality',\n",
       " 'parish',\n",
       " 'na',\n",
       " 'temple',\n",
       " 'pa',\n",
       " 'commune',\n",
       " 'pre',\n",
       " 'ha',\n",
       " 'north',\n",
       " 'hamlet',\n",
       " 'settlements',\n",
       " 'chamber',\n",
       " 'administrative',\n",
       " 'neighbourhood',\n",
       " 'township',\n",
       " 'lies',\n",
       " 'camp',\n",
       " 'locality',\n",
       " 'os',\n",
       " 'villagers',\n",
       " 'iran',\n",
       " 'nest',\n",
       " 'se',\n",
       " 'neighborhood',\n",
       " 'living',\n",
       " 'daily',\n",
       " 'junction',\n",
       " 'palace',\n",
       " 'county',\n",
       " 'crossing',\n",
       " 'south',\n",
       " 'approximately',\n",
       " 'garde',\n",
       " 'market',\n",
       " 'il',\n",
       " 'far',\n",
       " 'reared',\n",
       " 'romanized',\n",
       " 'non',\n",
       " 'west',\n",
       " 'right',\n",
       " 'court',\n",
       " 'wa',\n",
       " 'km',\n",
       " 'hen']"
      ]
     },
     "execution_count": 70,
     "metadata": {},
     "output_type": "execute_result"
    }
   ],
   "source": [
    "dic[8]"
   ]
  },
  {
   "cell_type": "code",
   "execution_count": 71,
   "metadata": {},
   "outputs": [],
   "source": [
    "with open('dbpedia_lotclass_dic.pkl', 'wb') as fout:\n",
    "    pkl.dump(dic, fout)"
   ]
  },
  {
   "cell_type": "code",
   "execution_count": 61,
   "metadata": {
    "scrolled": true
   },
   "outputs": [],
   "source": [
    "import nltk\n",
    "from tqdm import tqdm\n",
    "from itertools import chain\n",
    "from nltk.tokenize import word_tokenize\n",
    "text = ['Gustawów Gmina Fałków. Gustawów [ɡusˈtavuf] is a village located in the administrative district of Gmina Fałków within Końskie County Świętokrzyskie Voivodeship in south-central Poland. It lies approximately 10 kilometres ( 6 mi ) south-west of Fałków 33 km ( 21 mi ) south-west of Końskie and 50 km ( 31 mi ) north-west of the regional capital Kielce.The village has a population of 160.\\n']\n"
   ]
  },
  {
   "cell_type": "code",
   "execution_count": 45,
   "metadata": {},
   "outputs": [],
   "source": [
    "# tokenizer = nltk.data.load('tokenizers/punkt/english.pickle')\n",
    "\n",
    "# text = [tokenizer.tokenize(item) for item in tqdm(text)]\n",
    "\n",
    "# text = list(chain.from_iterable(text))"
   ]
  },
  {
   "cell_type": "code",
   "execution_count": 46,
   "metadata": {},
   "outputs": [
    {
     "data": {
      "text/plain": [
       "['Gustawów Gmina Fałków. Gustawów [ɡusˈtavuf] is a village in the administrative district of Gmina Fałków within Końskie County Świętokrzyskie Voivodeship in south-central Poland. It lies approximately 10 kilometres ( 6 mi ) south-west of Fałków 33 km ( 21 mi ) south-west of Końskie and 50 km ( 31 mi ) north-west of the regional capital Kielce.The village has a population of 160.\\n']"
      ]
     },
     "execution_count": 46,
     "metadata": {},
     "output_type": "execute_result"
    }
   ],
   "source": [
    "text"
   ]
  },
  {
   "cell_type": "code",
   "execution_count": 62,
   "metadata": {},
   "outputs": [
    {
     "name": "stderr",
     "output_type": "stream",
     "text": [
      "100%|██████████| 1/1 [00:00<00:00, 12520.31it/s]\n"
     ]
    }
   ],
   "source": [
    "import re\n",
    "text = [re.sub(r'[^\\w\\s]',' ', item) for item in tqdm(text)]"
   ]
  },
  {
   "cell_type": "code",
   "execution_count": 63,
   "metadata": {},
   "outputs": [
    {
     "data": {
      "text/plain": [
       "['Gustawów Gmina Fałków  Gustawów  ɡusˈtavuf  is a village located in the administrative district of Gmina Fałków within Końskie County Świętokrzyskie Voivodeship in south central Poland  It lies approximately 10 kilometres   6 mi   south west of Fałków 33 km   21 mi   south west of Końskie and 50 km   31 mi   north west of the regional capital Kielce The village has a population of 160 \\n']"
      ]
     },
     "execution_count": 63,
     "metadata": {},
     "output_type": "execute_result"
    }
   ],
   "source": [
    "text"
   ]
  },
  {
   "cell_type": "code",
   "execution_count": 64,
   "metadata": {},
   "outputs": [
    {
     "data": {
      "text/plain": [
       "[('Gustawów', 'NNP'),\n",
       " ('Gmina', 'NNP'),\n",
       " ('Fałków', 'NNP'),\n",
       " ('Gustawów', 'NNP'),\n",
       " ('ɡusˈtavuf', 'NNP'),\n",
       " ('is', 'VBZ'),\n",
       " ('a', 'DT'),\n",
       " ('village', 'NN'),\n",
       " ('located', 'VBN'),\n",
       " ('in', 'IN'),\n",
       " ('the', 'DT'),\n",
       " ('administrative', 'JJ'),\n",
       " ('district', 'NN'),\n",
       " ('of', 'IN'),\n",
       " ('Gmina', 'NNP'),\n",
       " ('Fałków', 'NNP'),\n",
       " ('within', 'IN'),\n",
       " ('Końskie', 'NNP'),\n",
       " ('County', 'NNP'),\n",
       " ('Świętokrzyskie', 'NNP'),\n",
       " ('Voivodeship', 'NNP'),\n",
       " ('in', 'IN'),\n",
       " ('south', 'JJ'),\n",
       " ('central', 'JJ'),\n",
       " ('Poland', 'NNP'),\n",
       " ('It', 'PRP'),\n",
       " ('lies', 'VBZ'),\n",
       " ('approximately', 'RB'),\n",
       " ('10', 'CD'),\n",
       " ('kilometres', 'NNS'),\n",
       " ('6', 'CD'),\n",
       " ('mi', 'NNS'),\n",
       " ('south', 'JJ'),\n",
       " ('west', 'JJS'),\n",
       " ('of', 'IN'),\n",
       " ('Fałków', 'NNP'),\n",
       " ('33', 'CD'),\n",
       " ('km', 'VBD'),\n",
       " ('21', 'CD'),\n",
       " ('mi', 'NN'),\n",
       " ('south', 'JJ'),\n",
       " ('west', 'NN'),\n",
       " ('of', 'IN'),\n",
       " ('Końskie', 'NNP'),\n",
       " ('and', 'CC'),\n",
       " ('50', 'CD'),\n",
       " ('km', 'NNS'),\n",
       " ('31', 'CD'),\n",
       " ('mi', 'JJ'),\n",
       " ('north', 'JJ'),\n",
       " ('west', 'NN'),\n",
       " ('of', 'IN'),\n",
       " ('the', 'DT'),\n",
       " ('regional', 'JJ'),\n",
       " ('capital', 'NN'),\n",
       " ('Kielce', 'NNP'),\n",
       " ('The', 'DT'),\n",
       " ('village', 'NN'),\n",
       " ('has', 'VBZ'),\n",
       " ('a', 'DT'),\n",
       " ('population', 'NN'),\n",
       " ('of', 'IN'),\n",
       " ('160', 'CD')]"
      ]
     },
     "execution_count": 64,
     "metadata": {},
     "output_type": "execute_result"
    }
   ],
   "source": [
    "tokens = word_tokenize(text[0])\n",
    "pos_tags = nltk.pos_tag(tokens)\n",
    "pos_tags"
   ]
  },
  {
   "cell_type": "code",
   "execution_count": 54,
   "metadata": {},
   "outputs": [
    {
     "name": "stderr",
     "output_type": "stream",
     "text": [
      "\n",
      "100%|██████████| 1/1 [00:00<00:00, 298.57it/s]\n"
     ]
    },
    {
     "data": {
      "text/plain": [
       "[['voivodeship',\n",
       "  'capital',\n",
       "  'village',\n",
       "  'north',\n",
       "  'kilometres',\n",
       "  'kielce',\n",
       "  'county',\n",
       "  'poland',\n",
       "  'district',\n",
       "  'administrative',\n",
       "  'regional',\n",
       "  'gmina',\n",
       "  'population',\n",
       "  'central',\n",
       "  'south',\n",
       "  'west']]"
      ]
     },
     "execution_count": 54,
     "metadata": {},
     "output_type": "execute_result"
    }
   ],
   "source": [
    "def is_en(s):\n",
    "    for uchar in s:\n",
    "        if ( uchar >= u'\\u0041' and uchar <= u'\\u005A' ) or ( uchar >= u'\\u0061' and uchar <= u'\\u007A'):\n",
    "            continue\n",
    "        else:\n",
    "            return False\n",
    "    return True\n",
    "\n",
    "\n",
    "def get_nouns(x):\n",
    "    nouns = []\n",
    "    for t in tqdm(x):\n",
    "        tokens = word_tokenize(t)\n",
    "#         tokens = tweet.tokenize(t)\n",
    "        pos_tags = nltk.pos_tag(tokens)\n",
    "\n",
    "        noun = set()\n",
    "        for word, pos in pos_tags:\n",
    "            word = word.lower()\n",
    "            if len(word) > 30 or len(word) < 3: continue\n",
    "#             if (pos == 'NN' or pos == 'NNP' or pos == 'NNS' or pos == 'NNPS' ) \\\n",
    "            if (pos == 'NN' or pos == 'NNP' or pos == 'NNS' or pos == 'NNPS' or pos == 'VBN' or pos == 'JJ' or pos == 'JJS') \\\n",
    "            and is_en(word):\n",
    "                noun.add(word)\n",
    "#                 noun.add(wnl.lemmatize(word.lower()))\n",
    "        nouns.append(list(noun))\n",
    "\n",
    "    return nouns\n",
    "\n",
    "get_nouns(text)"
   ]
  },
  {
   "cell_type": "code",
   "execution_count": null,
   "metadata": {},
   "outputs": [],
   "source": []
  },
  {
   "cell_type": "code",
   "execution_count": null,
   "metadata": {},
   "outputs": [],
   "source": []
  },
  {
   "cell_type": "code",
   "execution_count": null,
   "metadata": {},
   "outputs": [],
   "source": []
  },
  {
   "cell_type": "code",
   "execution_count": 56,
   "metadata": {},
   "outputs": [
    {
     "name": "stderr",
     "output_type": "stream",
     "text": [
      "  0%|          | 0/1 [26:05<?, ?it/s]\n"
     ]
    }
   ],
   "source": [
    "import pickle as pkl\n",
    "with open('nouns.pkl', 'rb') as fin:\n",
    "    data = pkl.load(fin)"
   ]
  },
  {
   "cell_type": "code",
   "execution_count": 58,
   "metadata": {
    "scrolled": true
   },
   "outputs": [
    {
     "data": {
      "text/plain": [
       "[['manufacturers',\n",
       "  'british',\n",
       "  'name',\n",
       "  'limited',\n",
       "  'coachbuilding',\n",
       "  'business',\n",
       "  'vehicle',\n",
       "  'ltd',\n",
       "  'part',\n",
       "  'surrey',\n",
       "  'output',\n",
       "  'sub',\n",
       "  'based',\n",
       "  'contract'],\n",
       " ['markers',\n",
       "  'manufacturer',\n",
       "  'highlighters',\n",
       "  'highlighter',\n",
       "  'largest',\n",
       "  'use',\n",
       "  'office',\n",
       "  'cosmetics',\n",
       "  'pens',\n",
       "  'stabilo',\n",
       "  'colouring'],\n",
       " ['student',\n",
       "  'designand',\n",
       "  'games',\n",
       "  'role',\n",
       "  'patryk',\n",
       "  'products',\n",
       "  'use',\n",
       "  'located',\n",
       "  'strzelewicz',\n",
       "  'active',\n",
       "  'various',\n",
       "  'forum',\n",
       "  'wargames',\n",
       "  'company',\n",
       "  'production',\n",
       "  'gamesboard',\n",
       "  'accessories',\n",
       "  'polish',\n",
       "  'initiallythe',\n",
       "  'auction',\n",
       "  'website',\n",
       "  'retail',\n",
       "  'workshop',\n",
       "  'polyhedral',\n",
       "  'services',\n",
       "  'established',\n",
       "  'online',\n",
       "  'tabletop',\n",
       "  'community'],\n",
       " ['radlan',\n",
       "  'subsidiary',\n",
       "  'software',\n",
       "  'computer',\n",
       "  'group',\n",
       "  'solutions',\n",
       "  'communications',\n",
       "  'marvell',\n",
       "  'area',\n",
       "  'limited',\n",
       "  'network',\n",
       "  'technologies',\n",
       "  'technology',\n",
       "  'local',\n",
       "  'known',\n",
       "  'owned'],\n",
       " ['printed',\n",
       "  'careers',\n",
       "  'guide',\n",
       "  'contacts',\n",
       "  'directory',\n",
       "  'online',\n",
       "  'industry',\n",
       "  'unsigned',\n",
       "  'resource',\n",
       "  'published'],\n",
       " ['country',\n",
       "  'formed',\n",
       "  'individual',\n",
       "  'players',\n",
       "  'international',\n",
       "  'many',\n",
       "  'group',\n",
       "  'played',\n",
       "  'games',\n",
       "  'competitive',\n",
       "  'countries',\n",
       "  'club',\n",
       "  'level',\n",
       "  'team',\n",
       "  'sports',\n",
       "  'refers',\n",
       "  'within',\n",
       "  'origin'],\n",
       " ['massachusetts',\n",
       "  'southborough',\n",
       "  'designed',\n",
       "  'software',\n",
       "  'incentive',\n",
       "  'mapped',\n",
       "  'corporation',\n",
       "  'performance',\n",
       "  'recognition',\n",
       "  'behaviors',\n",
       "  'hcm',\n",
       "  'company',\n",
       "  'management',\n",
       "  'employees',\n",
       "  'globoforce',\n",
       "  'multinational',\n",
       "  'private',\n",
       "  'service',\n",
       "  'based',\n",
       "  'headquartered',\n",
       "  'solutions',\n",
       "  'capital',\n",
       "  'social'],\n",
       " ['oil',\n",
       "  'marketing',\n",
       "  'exploration',\n",
       "  'countries',\n",
       "  'operations',\n",
       "  'industry',\n",
       "  'group',\n",
       "  'active',\n",
       "  'company',\n",
       "  'production',\n",
       "  'epcm',\n",
       "  'additional',\n",
       "  'romanian',\n",
       "  'services',\n",
       "  'many',\n",
       "  'transportation',\n",
       "  'rompetrol',\n",
       "  'europe',\n",
       "  'drilling'],\n",
       " ['designed',\n",
       "  'software',\n",
       "  'inc',\n",
       "  'countries',\n",
       "  'products',\n",
       "  'product',\n",
       "  'neighbourhood',\n",
       "  'accounting',\n",
       "  'businesses',\n",
       "  'business',\n",
       "  'suite',\n",
       "  'company',\n",
       "  'employees',\n",
       "  'name',\n",
       "  'leslieville',\n",
       "  'headquartered',\n",
       "  'legal',\n",
       "  'online',\n",
       "  'used'],\n",
       " ['angstrem',\n",
       "  'antek',\n",
       "  'largest',\n",
       "  'products',\n",
       "  'topology',\n",
       "  'semiconductors',\n",
       "  'group',\n",
       "  'eastern',\n",
       "  'plant',\n",
       "  'company',\n",
       "  'manufacturers',\n",
       "  'circuits',\n",
       "  'construction',\n",
       "  'oao',\n",
       "  'integrated',\n",
       "  'electronic',\n",
       "  'russian',\n",
       "  'angstrom',\n",
       "  'design',\n",
       "  'custom',\n",
       "  'companies',\n",
       "  'europe',\n",
       "  'manufacturing']]"
      ]
     },
     "execution_count": 58,
     "metadata": {},
     "output_type": "execute_result"
    }
   ],
   "source": [
    "data[:10]"
   ]
  },
  {
   "cell_type": "code",
   "execution_count": null,
   "metadata": {},
   "outputs": [],
   "source": []
  }
 ],
 "metadata": {
  "kernelspec": {
   "display_name": "nlp_task",
   "language": "python",
   "name": "nlp_task"
  },
  "language_info": {
   "codemirror_mode": {
    "name": "ipython",
    "version": 3
   },
   "file_extension": ".py",
   "mimetype": "text/x-python",
   "name": "python",
   "nbconvert_exporter": "python",
   "pygments_lexer": "ipython3",
   "version": "3.7.7"
  }
 },
 "nbformat": 4,
 "nbformat_minor": 4
}
